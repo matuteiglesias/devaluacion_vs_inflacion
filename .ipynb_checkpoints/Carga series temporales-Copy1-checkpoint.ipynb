{
 "cells": [
  {
   "cell_type": "code",
   "execution_count": 1,
   "metadata": {
    "collapsed": true
   },
   "outputs": [],
   "source": [
    "import pandas as pd"
   ]
  },
  {
   "cell_type": "code",
   "execution_count": 9,
   "metadata": {
    "collapsed": false
   },
   "outputs": [],
   "source": [
    "series = pd.read_csv('./series-tiempo-metadatos.csv')"
   ]
  },
  {
   "cell_type": "code",
   "execution_count": 10,
   "metadata": {
    "collapsed": false
   },
   "outputs": [
    {
     "data": {
      "text/plain": [
       "catalogo_id                      2\n",
       "dataset_id                     270\n",
       "distribucion_id                649\n",
       "serie_id                     20205\n",
       "indice_tiempo_frecuencia         5\n",
       "serie_titulo                  7998\n",
       "serie_unidades                 135\n",
       "serie_descripcion            11568\n",
       "distribucion_titulo            683\n",
       "distribucion_descripcion       641\n",
       "distribucion_url_descarga      698\n",
       "dataset_responsable             29\n",
       "dataset_fuente                  33\n",
       "dataset_titulo                 288\n",
       "dataset_descripcion            287\n",
       "dataset_tema                    33\n",
       "serie_indice_inicio            307\n",
       "serie_indice_final              83\n",
       "serie_valores_cant             329\n",
       "serie_dias_no_cubiertos         68\n",
       "serie_actualizada              993\n",
       "serie_valor_ultimo           15885\n",
       "serie_valor_anterior         15801\n",
       "serie_var_pct_anterior       15388\n",
       "Unnamed: 24                    101\n",
       "Unnamed: 25                      2\n",
       "dtype: int64"
      ]
     },
     "execution_count": 10,
     "metadata": {},
     "output_type": "execute_result"
    }
   ],
   "source": [
    "series.nunique()"
   ]
  },
  {
   "cell_type": "code",
   "execution_count": 18,
   "metadata": {
    "collapsed": false,
    "scrolled": true
   },
   "outputs": [
    {
     "data": {
      "text/plain": [
       "serie_unidades\n",
       "Millones de pesos                                                                         4750\n",
       "Millones de dólares                                                                       2641\n",
       "Variación Porcentual                                                                      1342\n",
       "Pesos                                                                                     1157\n",
       "Índice                                                                                     909\n",
       "Porcentaje                                                                                 892\n",
       "En millones de pesos                                                                       777\n",
       "Índice 1993=100                                                                            656\n",
       "Millones de pesos corrientes                                                               634\n",
       "Dólares                                                                                    554\n",
       "Unidades                                                                                   478\n",
       "Índice 2004=100                                                                            421\n",
       "En porcentaje del PIB                                                                      363\n",
       "Índice base 100                                                                            343\n",
       "2004=100                                                                                   342\n",
       "Millones de dolares                                                                        336\n",
       "Porcentaje de población                                                                    224\n",
       "Índice 1997=100                                                                            184\n",
       "Miles de personas                                                                          176\n",
       "Miles de pesos                                                                             169\n",
       "Índice 1999=100                                                                            136\n",
       "millones de pesos corrientes                                                               136\n",
       "Miles de toneladas                                                                         106\n",
       "Millones de pesos a precios de 2004                                                        102\n",
       "Toneladas                                                                                   98\n",
       "Años                                                                                        93\n",
       "Millones de pesos a precios de 1993                                                         91\n",
       "Australes                                                                                   90\n",
       "Índice abr-2008=100                                                                         88\n",
       "GWh                                                                                         84\n",
       "                                                                                          ... \n",
       "Gwh                                                                                          3\n",
       "M3                                                                                           3\n",
       "Miles de líneas                                                                              3\n",
       "Miles de teléfonos                                                                           3\n",
       "Millones de Litros                                                                           3\n",
       "Cantidad de pasajeros                                                                        3\n",
       "Índice Dic-2015=100                                                                          3\n",
       "Automóviles                                                                                  3\n",
       "Índice 31-mar-2016=14,05                                                                     2\n",
       "Brecha de ingresos                                                                           2\n",
       "En cantidad de beneficiarios                                                                 2\n",
       "Reales                                                                                       2\n",
       "Habitantes                                                                                   2\n",
       "Variación interanual                                                                         2\n",
       "Índice - Base Junio 2002 = 100                                                               2\n",
       "Coeficiente de Gini                                                                          2\n",
       "Índice 1985=100                                                                              2\n",
       "Índice 02-feb-2002=1                                                                         1\n",
       "Índice de precios al consumidor precios relativos regulados/ipc resto. Valores anuales       1\n",
       "Resultados financieros sin renta 2007 2014                                                   1\n",
       "Índice - Base Diciembre 2016 = 100                                                           1\n",
       "Índice - Base 2004 = 100                                                                     1\n",
       "Variación intermensual                                                                       1\n",
       "Total ingresos corrientes . Metodología 1993 - 2006                                          1\n",
       "Reales por dólar                                                                             1\n",
       "En cantidad de becas                                                                         1\n",
       "Gasto corrientes. Metodología 2017                                                           1\n",
       "Gastos primarios antes de figurativos . Metodología 2007 - 2014                              1\n",
       "Ingresos primarios antes de figurativos . Metodología 2007 - 2014                            1\n",
       "1985=100                                                                                     1\n",
       "Name: catalogo_id, Length: 135, dtype: int64"
      ]
     },
     "execution_count": 18,
     "metadata": {},
     "output_type": "execute_result"
    }
   ],
   "source": [
    "series.groupby('serie_unidades').count().iloc[:, 0].sort_values(ascending = False)"
   ]
  },
  {
   "cell_type": "code",
   "execution_count": 28,
   "metadata": {
    "collapsed": false
   },
   "outputs": [],
   "source": [
    "ids = series.loc[series.serie_unidades == 'Millones de pesos'].serie_id"
   ]
  },
  {
   "cell_type": "code",
   "execution_count": 19,
   "metadata": {
    "collapsed": false
   },
   "outputs": [
    {
     "data": {
      "text/html": [
       "<div>\n",
       "<style scoped>\n",
       "    .dataframe tbody tr th:only-of-type {\n",
       "        vertical-align: middle;\n",
       "    }\n",
       "\n",
       "    .dataframe tbody tr th {\n",
       "        vertical-align: top;\n",
       "    }\n",
       "\n",
       "    .dataframe thead th {\n",
       "        text-align: right;\n",
       "    }\n",
       "</style>\n",
       "<table border=\"1\" class=\"dataframe\">\n",
       "  <thead>\n",
       "    <tr style=\"text-align: right;\">\n",
       "      <th></th>\n",
       "      <th>catalogo_id</th>\n",
       "      <th>dataset_id</th>\n",
       "      <th>distribucion_id</th>\n",
       "      <th>serie_id</th>\n",
       "      <th>indice_tiempo_frecuencia</th>\n",
       "      <th>serie_titulo</th>\n",
       "      <th>serie_unidades</th>\n",
       "      <th>serie_descripcion</th>\n",
       "      <th>distribucion_titulo</th>\n",
       "      <th>distribucion_descripcion</th>\n",
       "      <th>...</th>\n",
       "      <th>serie_indice_inicio</th>\n",
       "      <th>serie_indice_final</th>\n",
       "      <th>serie_valores_cant</th>\n",
       "      <th>serie_dias_no_cubiertos</th>\n",
       "      <th>serie_actualizada</th>\n",
       "      <th>serie_valor_ultimo</th>\n",
       "      <th>serie_valor_anterior</th>\n",
       "      <th>serie_var_pct_anterior</th>\n",
       "      <th>Unnamed: 24</th>\n",
       "      <th>Unnamed: 25</th>\n",
       "    </tr>\n",
       "  </thead>\n",
       "  <tbody>\n",
       "    <tr>\n",
       "      <th>16384</th>\n",
       "      <td>sspm</td>\n",
       "      <td>430</td>\n",
       "      <td>430.1</td>\n",
       "      <td>430.1_MEDIANA_IPT_1_M_0_0_38_80</td>\n",
       "      <td>R/P1M</td>\n",
       "      <td>rem_ipc_gba_nucleo_var_mensual_t_1</td>\n",
       "      <td>Variación Porcentual</td>\n",
       "      <td>REM: Mediana IPC GBA núcleo var mensual t 1</td>\n",
       "      <td>Relevamiento de Expectativas de Mercado (REM)....</td>\n",
       "      <td>Relevamiento de Expectativas de Mercado (REM)....</td>\n",
       "      <td>...</td>\n",
       "      <td>2016-08-01</td>\n",
       "      <td>2018-06-01</td>\n",
       "      <td>23</td>\n",
       "      <td>22</td>\n",
       "      <td>True</td>\n",
       "      <td>NaN</td>\n",
       "      <td>NaN</td>\n",
       "      <td>NaN</td>\n",
       "      <td>NaN</td>\n",
       "      <td>NaN</td>\n",
       "    </tr>\n",
       "    <tr>\n",
       "      <th>12707</th>\n",
       "      <td>sspm</td>\n",
       "      <td>374</td>\n",
       "      <td>374.1</td>\n",
       "      <td>374.1_FTES_FIN_E006__54_51</td>\n",
       "      <td>R/P1Y</td>\n",
       "      <td>ftes_fin_end_pub_incr_ot_pasiv_end_mon_extra_1...</td>\n",
       "      <td>Millones de pesos</td>\n",
       "      <td>Fuentes financieras endeudamiento público e in...</td>\n",
       "      <td>Recursos Afectados. Valores anuales 1993-2006</td>\n",
       "      <td>Esquema Ahorro - Inversión - Financiamiento. R...</td>\n",
       "      <td>...</td>\n",
       "      <td>1993-01-01</td>\n",
       "      <td>2006-01-01</td>\n",
       "      <td>14</td>\n",
       "      <td>4221</td>\n",
       "      <td>False</td>\n",
       "      <td>2360.6</td>\n",
       "      <td>1791.2</td>\n",
       "      <td>0.317887</td>\n",
       "      <td>NaN</td>\n",
       "      <td>NaN</td>\n",
       "    </tr>\n",
       "    <tr>\n",
       "      <th>2014</th>\n",
       "      <td>sspm</td>\n",
       "      <td>125</td>\n",
       "      <td>125.1</td>\n",
       "      <td>125.1_T_1993_0_7</td>\n",
       "      <td>R/P1Y</td>\n",
       "      <td>tabacos</td>\n",
       "      <td>Índice 1993=100</td>\n",
       "      <td>Tabacos índice anual</td>\n",
       "      <td>Índice de Precios Internos Básicos al por Mayo...</td>\n",
       "      <td>Índice de Precios Internos Básicos al por Mayo...</td>\n",
       "      <td>...</td>\n",
       "      <td>1993-01-01</td>\n",
       "      <td>2014-01-01</td>\n",
       "      <td>22</td>\n",
       "      <td>1299</td>\n",
       "      <td>False</td>\n",
       "      <td>779.3291666667</td>\n",
       "      <td>543.6416666667</td>\n",
       "      <td>0.433535</td>\n",
       "      <td>NaN</td>\n",
       "      <td>NaN</td>\n",
       "    </tr>\n",
       "    <tr>\n",
       "      <th>10566</th>\n",
       "      <td>sspm</td>\n",
       "      <td>357</td>\n",
       "      <td>357.1</td>\n",
       "      <td>357.1_ENTRE_RIOSILE__16</td>\n",
       "      <td>R/P1Y</td>\n",
       "      <td>entre_rios_chile</td>\n",
       "      <td>Millones de dolares</td>\n",
       "      <td>Datos exportaciones Entre Rios Chile</td>\n",
       "      <td>Exportaciones por provincia y por país de dest...</td>\n",
       "      <td>Exportaciones por provincia y por país de dest...</td>\n",
       "      <td>...</td>\n",
       "      <td>1993-01-01</td>\n",
       "      <td>2017-01-01</td>\n",
       "      <td>25</td>\n",
       "      <td>203</td>\n",
       "      <td>True</td>\n",
       "      <td>80.94509744</td>\n",
       "      <td>69.84028918</td>\n",
       "      <td>0.159003</td>\n",
       "      <td>NaN</td>\n",
       "      <td>NaN</td>\n",
       "    </tr>\n",
       "    <tr>\n",
       "      <th>13109</th>\n",
       "      <td>sspm</td>\n",
       "      <td>374</td>\n",
       "      <td>374.9</td>\n",
       "      <td>374.9_GTOS_CORR_017_0_M_44_35</td>\n",
       "      <td>R/P1M</td>\n",
       "      <td>gtos_corr_int_ot_ren_prop_int_mon_extra_2017</td>\n",
       "      <td>Millones de pesos</td>\n",
       "      <td>Gastos corrientes  intereses y otras rentas de...</td>\n",
       "      <td>Recursos Afectados. Valores mensuales 2017</td>\n",
       "      <td>Esquema Ahorro - Inversión - Financiamiento.  ...</td>\n",
       "      <td>...</td>\n",
       "      <td>2015-01-01</td>\n",
       "      <td>2018-05-01</td>\n",
       "      <td>41</td>\n",
       "      <td>52</td>\n",
       "      <td>True</td>\n",
       "      <td>NaN</td>\n",
       "      <td>NaN</td>\n",
       "      <td>NaN</td>\n",
       "      <td>NaN</td>\n",
       "      <td>NaN</td>\n",
       "    </tr>\n",
       "  </tbody>\n",
       "</table>\n",
       "<p>5 rows × 26 columns</p>\n",
       "</div>"
      ],
      "text/plain": [
       "      catalogo_id  dataset_id  distribucion_id  \\\n",
       "16384        sspm         430            430.1   \n",
       "12707        sspm         374            374.1   \n",
       "2014         sspm         125            125.1   \n",
       "10566        sspm         357            357.1   \n",
       "13109        sspm         374            374.9   \n",
       "\n",
       "                              serie_id indice_tiempo_frecuencia  \\\n",
       "16384  430.1_MEDIANA_IPT_1_M_0_0_38_80                    R/P1M   \n",
       "12707       374.1_FTES_FIN_E006__54_51                    R/P1Y   \n",
       "2014                  125.1_T_1993_0_7                    R/P1Y   \n",
       "10566          357.1_ENTRE_RIOSILE__16                    R/P1Y   \n",
       "13109    374.9_GTOS_CORR_017_0_M_44_35                    R/P1M   \n",
       "\n",
       "                                            serie_titulo  \\\n",
       "16384                 rem_ipc_gba_nucleo_var_mensual_t_1   \n",
       "12707  ftes_fin_end_pub_incr_ot_pasiv_end_mon_extra_1...   \n",
       "2014                                             tabacos   \n",
       "10566                                   entre_rios_chile   \n",
       "13109       gtos_corr_int_ot_ren_prop_int_mon_extra_2017   \n",
       "\n",
       "             serie_unidades  \\\n",
       "16384  Variación Porcentual   \n",
       "12707     Millones de pesos   \n",
       "2014        Índice 1993=100   \n",
       "10566   Millones de dolares   \n",
       "13109     Millones de pesos   \n",
       "\n",
       "                                       serie_descripcion  \\\n",
       "16384        REM: Mediana IPC GBA núcleo var mensual t 1   \n",
       "12707  Fuentes financieras endeudamiento público e in...   \n",
       "2014                                Tabacos índice anual   \n",
       "10566               Datos exportaciones Entre Rios Chile   \n",
       "13109  Gastos corrientes  intereses y otras rentas de...   \n",
       "\n",
       "                                     distribucion_titulo  \\\n",
       "16384  Relevamiento de Expectativas de Mercado (REM)....   \n",
       "12707      Recursos Afectados. Valores anuales 1993-2006   \n",
       "2014   Índice de Precios Internos Básicos al por Mayo...   \n",
       "10566  Exportaciones por provincia y por país de dest...   \n",
       "13109         Recursos Afectados. Valores mensuales 2017   \n",
       "\n",
       "                                distribucion_descripcion     ...      \\\n",
       "16384  Relevamiento de Expectativas de Mercado (REM)....     ...       \n",
       "12707  Esquema Ahorro - Inversión - Financiamiento. R...     ...       \n",
       "2014   Índice de Precios Internos Básicos al por Mayo...     ...       \n",
       "10566  Exportaciones por provincia y por país de dest...     ...       \n",
       "13109  Esquema Ahorro - Inversión - Financiamiento.  ...     ...       \n",
       "\n",
       "      serie_indice_inicio serie_indice_final serie_valores_cant  \\\n",
       "16384          2016-08-01         2018-06-01                 23   \n",
       "12707          1993-01-01         2006-01-01                 14   \n",
       "2014           1993-01-01         2014-01-01                 22   \n",
       "10566          1993-01-01         2017-01-01                 25   \n",
       "13109          2015-01-01         2018-05-01                 41   \n",
       "\n",
       "      serie_dias_no_cubiertos serie_actualizada serie_valor_ultimo  \\\n",
       "16384                      22              True                NaN   \n",
       "12707                    4221             False             2360.6   \n",
       "2014                     1299             False     779.3291666667   \n",
       "10566                     203              True        80.94509744   \n",
       "13109                      52              True                NaN   \n",
       "\n",
       "      serie_valor_anterior serie_var_pct_anterior Unnamed: 24 Unnamed: 25  \n",
       "16384                  NaN                    NaN         NaN         NaN  \n",
       "12707               1791.2               0.317887         NaN         NaN  \n",
       "2014        543.6416666667               0.433535         NaN         NaN  \n",
       "10566          69.84028918               0.159003         NaN         NaN  \n",
       "13109                  NaN                    NaN         NaN         NaN  \n",
       "\n",
       "[5 rows x 26 columns]"
      ]
     },
     "execution_count": 19,
     "metadata": {},
     "output_type": "execute_result"
    }
   ],
   "source": [
    "# series.groupby('dataset_tema').count()#.iloc[:, 0].sort_values(ascending = False)\n",
    "\n",
    "series.sample(5)"
   ]
  },
  {
   "cell_type": "code",
   "execution_count": null,
   "metadata": {
    "collapsed": false
   },
   "outputs": [],
   "source": [
    "df_list = []\n",
    "for id in ids:\n",
    "    serie_id = id\n",
    "    url = 'http://apis.datos.gob.ar/series/api/series?ids='+serie_id+'&format=csv'\n",
    "    df = pd.read_csv(url)\n",
    "    df_list += [df.groupby(pd.to_datetime(df.indice_tiempo).dt.year).sum()]\n"
   ]
  },
  {
   "cell_type": "code",
   "execution_count": null,
   "metadata": {
    "collapsed": false
   },
   "outputs": [],
   "source": [
    "df = pd.concat(df_list, axis = 1).dropna(axis = 1)\n",
    "df = df[list(set(df.columns))]"
   ]
  },
  {
   "cell_type": "code",
   "execution_count": null,
   "metadata": {
    "collapsed": false
   },
   "outputs": [],
   "source": [
    "sorted_df = df[df.mean().sort_values(ascending = False).index]\n",
    "df.style.bar(color='#d65f5f')"
   ]
  },
  {
   "cell_type": "code",
   "execution_count": null,
   "metadata": {
    "collapsed": true
   },
   "outputs": [],
   "source": [
    "sorted_df.style.bar(color='#d65f5f')"
   ]
  },
  {
   "cell_type": "code",
   "execution_count": null,
   "metadata": {
    "collapsed": true
   },
   "outputs": [],
   "source": []
  }
 ],
 "metadata": {
  "kernelspec": {
   "display_name": "Python 2",
   "language": "python",
   "name": "python2"
  },
  "language_info": {
   "codemirror_mode": {
    "name": "ipython",
    "version": 2
   },
   "file_extension": ".py",
   "mimetype": "text/x-python",
   "name": "python",
   "nbconvert_exporter": "python",
   "pygments_lexer": "ipython2",
   "version": "2.7.13"
  }
 },
 "nbformat": 4,
 "nbformat_minor": 2
}
